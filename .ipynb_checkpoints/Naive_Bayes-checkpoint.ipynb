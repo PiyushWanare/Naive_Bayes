{
 "cells": [
  {
   "cell_type": "code",
   "execution_count": 71,
   "metadata": {},
   "outputs": [],
   "source": [
    "import pickle\n",
    "from sklearn.model_selection import train_test_split\n",
    "from sklearn.feature_extraction.text import TfidfVectorizer\n",
    "from sklearn.feature_selection import SelectPercentile, f_classif\n",
    "from sklearn.naive_bayes import GaussianNB,MultinomialNB,BernoulliNB\n",
    "from sklearn.metrics import accuracy_score\n",
    "from sklearn.metrics import confusion_matrix\n"
   ]
  },
  {
   "cell_type": "code",
   "execution_count": 65,
   "metadata": {},
   "outputs": [],
   "source": [
    "words_file = r\"word_data.pkl\"\n",
    "authors_file= r\"email_authors.pkl\""
   ]
  },
  {
   "cell_type": "code",
   "execution_count": 69,
   "metadata": {},
   "outputs": [],
   "source": [
    "def data_preprocessing(words_file,authors_file):\n",
    "\n",
    "    \"\"\" Read both features and Labels files\"\"\"\n",
    "    authors_file_handler = open(authors_file, \"rb\")\n",
    "    authors = pickle.load(authors_file_handler)\n",
    "    authors_file_handler.close()\n",
    "\n",
    "    words_file_handler = open(words_file, \"rb\")\n",
    "    words_data = pickle.load(words_file_handler)\n",
    "    words_file_handler.close()\n",
    "\n",
    "    \"\"\" Split dataset into train and test data\"\"\"\n",
    "\n",
    "    features_train, features_test, labels_train, labels_test = train_test_split(words_data,authors, test_size=0.1, random_state=42)\n",
    "\n",
    "    \"\"\" text vectorization--go from strings to lists of numbers \"\"\"\n",
    "    vectorizer = TfidfVectorizer(sublinear_tf=True, max_df=0.5,stop_words='english')\n",
    "    features_train_transformed = vectorizer.fit_transform(features_train)\n",
    "    features_test_transformed  = vectorizer.transform(features_test)\n",
    "    \n",
    "    \"\"\"feature selection, because text is super high dimensional and can be really computationally chewy as a result \"\"\" \n",
    "    selector = SelectPercentile(f_classif, percentile=10)\n",
    "    selector.fit(features_train_transformed, labels_train)\n",
    "        \n",
    "    features_train_transformed = selector.transform(features_train_transformed).toarray()\n",
    "    features_test_transformed  = selector.transform(features_test_transformed).toarray()\n",
    "    \n",
    "    return features_train_transformed,features_test_transformed,labels_train,labels_test\n",
    "\n",
    "\n",
    "\"\"\" Training models with all 3 types of naive Bayes algorithm\"\"\"\n",
    "\n",
    "def GaussianNB_algo(features_train_transformed, labels_train,labels_test):\n",
    "    clf = GaussianNB()\n",
    "    clf.fit(features_train_transformed, labels_train)\n",
    "    predicted_result = clf.predict(features_test_transformed)\n",
    "    GaussianNB_accuracy = accuracy_score(predicted_result,labels_test)\n",
    "    \"\"\"You can also find the confusion matrix for the predicted result\"\"\"\n",
    "#     cm = confusion_matrix(labels_test, predicted_result)    \n",
    "    return GaussianNB_accuracy\n",
    "\n",
    "def MultinomialNB_algo(features_train_transformed, labels_train,labels_test):\n",
    "    clf = MultinomialNB()\n",
    "    clf.fit(features_train_transformed, labels_train)\n",
    "    predicted_result = clf.predict(features_test_transformed)\n",
    "    MultinomialNB_accuracy = accuracy_score(predicted_result,labels_test)\n",
    "    \n",
    "    return MultinomialNB_accuracy\n",
    "\n",
    "def BernoulliNB_algo(features_train_transformed, labels_train,labels_test):\n",
    "    clf = BernoulliNB()\n",
    "    clf.fit(features_train_transformed, labels_train)\n",
    "    predicted_result = clf.predict(features_test_transformed)\n",
    "    BernoulliNB_accuracy = accuracy_score(predicted_result,labels_test)\n",
    "    \n",
    "    return BernoulliNB_accuracy\n",
    "        "
   ]
  },
  {
   "cell_type": "code",
   "execution_count": 67,
   "metadata": {},
   "outputs": [],
   "source": [
    "features_train_transformed,features_test_transformed,labels_train,labels_test = data_preprocessing(words_file,authors_file)"
   ]
  },
  {
   "cell_type": "code",
   "execution_count": 68,
   "metadata": {},
   "outputs": [
    {
     "name": "stdout",
     "output_type": "stream",
     "text": [
      "0.9732650739476678\n",
      "0.9829351535836177\n",
      "0.9078498293515358\n"
     ]
    }
   ],
   "source": [
    "GaussianNB_accuracy = GaussianNB_algo(features_train_transformed,labels_train,labels_test)\n",
    "MultinomialNB_accuracy = MultinomialNB_algo(features_train_transformed,labels_train,labels_test)\n",
    "BernoulliNB_accuracy = BernoulliNB_algo(features_train_transformed,labels_train,labels_test)\n",
    "\n",
    "print (GaussianNB_accuracy)\n",
    "print (MultinomialNB_accuracy)\n",
    "print (BernoulliNB_accuracy)        "
   ]
  }
 ],
 "metadata": {
  "kernelspec": {
   "display_name": "Python 3",
   "language": "python",
   "name": "python3"
  },
  "language_info": {
   "codemirror_mode": {
    "name": "ipython",
    "version": 3
   },
   "file_extension": ".py",
   "mimetype": "text/x-python",
   "name": "python",
   "nbconvert_exporter": "python",
   "pygments_lexer": "ipython3",
   "version": "3.7.4"
  }
 },
 "nbformat": 4,
 "nbformat_minor": 2
}
